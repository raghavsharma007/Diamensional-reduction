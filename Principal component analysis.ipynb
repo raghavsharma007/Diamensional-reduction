{
 "cells": [
  {
   "cell_type": "markdown",
   "metadata": {},
   "source": [
    "# Diamensional reduction(Unsupervised learning)"
   ]
  },
  {
   "cell_type": "code",
   "execution_count": 1,
   "metadata": {},
   "outputs": [],
   "source": [
    "from sklearn.decomposition import PCA\n",
    "import numpy as np\n",
    "import pandas as pd"
   ]
  },
  {
   "cell_type": "code",
   "execution_count": 2,
   "metadata": {},
   "outputs": [
    {
     "name": "stdout",
     "output_type": "stream",
     "text": [
      "   Phenols    OD\n",
      "0     2.80  3.92\n",
      "1     2.65  3.40\n",
      "2     2.80  3.17\n",
      "3     3.85  3.45\n",
      "4     2.80  2.93\n"
     ]
    }
   ],
   "source": [
    "df=pd.read_csv('https://gist.githubusercontent.com/tijptjik/9408623/raw/b237fa5848349a14a14e5d4107dc7897c21951f5/wine.csv',usecols=[6,12])\n",
    "print(df.head())"
   ]
  },
  {
   "cell_type": "code",
   "execution_count": 3,
   "metadata": {},
   "outputs": [
    {
     "name": "stdout",
     "output_type": "stream",
     "text": [
      "[[2.8  3.92]\n",
      " [2.65 3.4 ]\n",
      " [2.8  3.17]\n",
      " [3.85 3.45]\n",
      " [2.8  2.93]\n",
      " [3.27 2.85]\n",
      " [2.5  3.58]\n",
      " [2.6  3.58]\n",
      " [2.8  2.85]\n",
      " [2.98 3.55]]\n"
     ]
    }
   ],
   "source": [
    "samples=df.values\n",
    "print(samples[:10])"
   ]
  },
  {
   "cell_type": "code",
   "execution_count": 4,
   "metadata": {},
   "outputs": [],
   "source": [
    "model=PCA() # Instatiate the model"
   ]
  },
  {
   "cell_type": "code",
   "execution_count": 5,
   "metadata": {},
   "outputs": [
    {
     "data": {
      "text/plain": [
       "PCA(copy=True, iterated_power='auto', n_components=None, random_state=None,\n",
       "  svd_solver='auto', tol=0.0, whiten=False)"
      ]
     },
     "execution_count": 5,
     "metadata": {},
     "output_type": "execute_result"
    }
   ],
   "source": [
    "model.fit(samples)"
   ]
  },
  {
   "cell_type": "code",
   "execution_count": 6,
   "metadata": {},
   "outputs": [
    {
     "name": "stdout",
     "output_type": "stream",
     "text": [
      "[[-1.32771994e+00  4.51396070e-01]\n",
      " [-8.32496068e-01  2.33099664e-01]\n",
      " [-7.52168680e-01 -2.94789161e-02]\n",
      " [-1.64026613e+00 -6.55724013e-01]\n",
      " [-5.67992278e-01 -1.83358911e-01]\n",
      " [-8.07948468e-01 -5.95331030e-01]\n",
      " [-8.74453372e-01  4.63619912e-01]\n",
      " [-9.38570037e-01  3.86879744e-01]\n",
      " [-5.06600144e-01 -2.34652243e-01]\n",
      " [-1.15919131e+00  7.60321086e-02]\n",
      " [-8.48343677e-01 -1.44589167e-01]\n",
      " [-9.88781053e-02  2.06553762e-01]\n",
      " [-4.16736898e-01 -4.91135760e-02]\n",
      " [-6.06861937e-01 -5.41812743e-01]\n",
      " [-9.42293719e-01 -5.22178083e-01]\n",
      " [-5.61680527e-01 -2.53787328e-01]\n",
      " [-3.53119809e-01 -3.62885573e-01]\n",
      " [-3.87902672e-01 -5.29289156e-01]\n",
      " [-8.04161418e-01 -6.37588080e-01]\n",
      " [-8.33858333e-01  1.69082914e-01]\n",
      " [-1.29479891e+00  1.63270739e-01]\n",
      " [-7.70704274e-01  4.94216064e-01]\n",
      " [-1.26729041e+00  6.48495720e-01]\n",
      " [-9.00000123e-01  5.11026278e-01]\n",
      " [-1.07786477e+00  5.94477857e-01]\n",
      " [-6.66192400e-01  1.20214368e-01]\n",
      " [-8.22597096e-01 -3.57906674e-02]\n",
      " [-1.88741351e-01  2.10150947e-02]\n",
      " [-1.02484606e+00  2.87916168e-03]\n",
      " [-9.78302386e-01  3.54921327e-01]\n",
      " [-5.27397239e-01 -4.77895909e-01]\n",
      " [-5.68092193e-01 -2.61461344e-01]\n",
      " [-2.78304852e-01  6.97837260e-02]\n",
      " [-7.17885392e-01 -2.53587497e-01]\n",
      " [-2.33423186e-01  1.23501843e-01]\n",
      " [-9.18272518e-01  2.39611246e-01]\n",
      " [-3.24648697e-01 -1.26053574e-01]\n",
      " [-2.12752481e-02 -1.84058317e-01]\n",
      " [-1.27349217e-01 -3.02782371e-02]\n",
      " [-1.15666661e+00  4.78607421e-02]\n",
      " [-1.13773136e+00 -1.63424506e-01]\n",
      " [-3.97302069e-01  1.30113340e-01]\n",
      " [-1.33998032e+00 -1.24754677e-01]\n",
      " [-5.19123732e-01 -1.56929782e-02]\n",
      " [-1.01853431e+00 -6.75492544e-02]\n",
      " [-9.07011280e-01  3.47376638e-02]\n",
      " [-1.24789212e+00 -2.01694675e-01]\n",
      " [-1.06730294e+00 -1.57112755e-01]\n",
      " [-3.97801644e-01 -2.60398824e-01]\n",
      " [-7.49743895e-01 -1.35752715e-01]\n",
      " [-5.01350913e-01 -1.34790110e-01]\n",
      " [-6.81240688e-01  3.67345000e-01]\n",
      " [-1.51369481e+00 -8.00567726e-01]\n",
      " [-6.96225608e-01 -3.36839246e-01]\n",
      " [-6.46957401e-01  1.43236418e-01]\n",
      " [-7.47319109e-01 -2.42026515e-01]\n",
      " [-1.11607157e+00 -2.46676255e-01]\n",
      " [-6.27159457e-01 -3.94544245e-01]\n",
      " [-9.06648166e-01 -6.82269915e-01]\n",
      " [ 8.09580232e-01 -2.65784517e-01]\n",
      " [ 8.79808818e-01 -4.15677631e-01]\n",
      " [ 9.60435951e-01 -4.43948913e-01]\n",
      " [ 2.41503162e-01  5.24739364e-02]\n",
      " [-9.70764831e-01 -7.59010083e-01]\n",
      " [ 5.52650543e-01  6.61599591e-02]\n",
      " [ 1.59114103e-01 -2.95681263e-01]\n",
      " [-8.75252693e-01 -1.61199551e-01]\n",
      " [-5.47658212e-01  6.98789900e-01]\n",
      " [ 3.72524391e-01 -6.17327107e-01]\n",
      " [-6.63201973e-02  6.35436010e-01]\n",
      " [ 1.37380688e+00  4.09528957e-01]\n",
      " [-8.40669660e-01 -1.51000834e-01]\n",
      " [ 1.36991289e-01  4.26475632e-01]\n",
      " [-1.32599456e+00 -2.01594760e-01]\n",
      " [-1.09334927e+00 -5.00218553e-01]\n",
      " [ 8.01243355e-01  2.23327430e-01]\n",
      " [ 3.22330126e-01  1.80407521e-01]\n",
      " [ 4.39102388e-01  3.82556572e-01]\n",
      " [ 4.84846743e-01  1.09779274e-01]\n",
      " [-7.40707612e-01 -7.81476322e-02]\n",
      " [-4.70155270e-01  2.30075388e-01]\n",
      " [-3.44446641e-01  4.11727089e-01]\n",
      " [ 1.06095392e-01  2.95917432e-01]\n",
      " [ 8.75358907e-01  1.09279699e-01]\n",
      " [-2.98402541e-01  3.73257090e-01]\n",
      " [-3.59794675e-01  4.24550422e-01]\n",
      " [ 6.00156824e-01  1.69809143e-01]\n",
      " [-2.18638097e-01  6.71481223e-01]\n",
      " [ 1.15131674e-01  3.53522515e-01]\n",
      " [-3.98164758e-01  4.56608755e-01]\n",
      " [ 7.07892804e-01  3.14353111e-01]\n",
      " [ 5.12455165e-01  6.73106688e-01]\n",
      " [ 1.01010382e+00  3.48536483e-01]\n",
      " [-6.27522571e-01  3.22463334e-01]\n",
      " [-7.32070991e-01 -3.32952280e-01]\n",
      " [-1.45421781e-01 -1.45488403e-01]\n",
      " [ 7.15566821e-01  3.07941444e-01]\n",
      " [-2.61894298e-01 -1.13330156e-01]\n",
      " [-9.06847996e-01 -8.38474781e-01]\n",
      " [-5.23310443e-01 -2.85845660e-01]\n",
      " [-2.25549339e-01  2.73295042e-01]\n",
      " [ 4.20366964e-01  7.50046686e-01]\n",
      " [-7.59443036e-01  2.89342482e-01]\n",
      " [ 3.84536736e-04 -2.67310066e-01]\n",
      " [-6.74429361e-01  6.87428748e-01]\n",
      " [-1.33824252e-01  9.13362624e-01]\n",
      " [-1.48270353e-02  8.53033010e-01]\n",
      " [ 7.33839215e-01  5.79356476e-01]\n",
      " [-3.54945104e-01  2.12002824e-01]\n",
      " [-7.82764832e-01  7.42701827e-02]\n",
      " [-7.19547403e-01 -5.51911546e-01]\n",
      " [-2.92590365e-01 -8.76834900e-02]\n",
      " [ 4.35215422e-01  3.46711188e-01]\n",
      " [ 1.12970087e-01 -3.35313697e-01]\n",
      " [-6.13636718e-01  1.67520819e-01]\n",
      " [-3.03951517e-01  3.90876590e-02]\n",
      " [-3.49196297e-01  7.02377121e-01]\n",
      " [-7.80810103e-02  4.49797428e-01]\n",
      " [ 8.03768056e-01  1.95156063e-01]\n",
      " [-1.47147161e-01  5.07502426e-01]\n",
      " [-9.85113713e-01  3.48375789e-02]\n",
      " [-1.39486088e+00  1.23151043e-02]\n",
      " [-3.29098608e-01  3.98903756e-01]\n",
      " [-5.83040566e-01  6.37717200e-02]\n",
      " [-1.15131747e+00  2.25825308e-01]\n",
      " [-7.08349535e-01  1.94529750e-01]\n",
      " [-4.60456128e-01 -1.95019809e-01]\n",
      " [ 2.37616196e-01  1.66285532e-02]\n",
      " [-8.10053713e-02  1.65559063e-01]\n",
      " [ 1.57088978e-01  1.23002268e-01]\n",
      " [ 1.51765144e+00 -2.44924053e-01]\n",
      " [ 1.55253422e+00 -4.18037417e-04]\n",
      " [ 1.69475332e+00  7.62222149e-02]\n",
      " [ 1.39582978e+00 -3.90730371e-01]\n",
      " [ 1.03465142e+00 -4.79894211e-01]\n",
      " [ 1.22457663e+00 -1.43399910e-01]\n",
      " [ 1.61635114e+00 -1.57985169e-01]\n",
      " [ 1.03116411e+00 -2.03329863e-01]\n",
      " [ 1.04040022e+00  1.04800857e-02]\n",
      " [ 3.38341019e-01 -3.15116093e-01]\n",
      " [ 7.15666736e-01  3.86043877e-01]\n",
      " [ 6.82645799e-01  5.96066775e-01]\n",
      " [ 9.01105488e-01  2.18078198e-01]\n",
      " [ 6.20254514e-01 -1.33664222e-01]\n",
      " [ 1.05614792e+00  3.10066484e-01]\n",
      " [ 1.22477646e+00  1.28049560e-02]\n",
      " [ 1.82677370e+00  1.87445500e-01]\n",
      " [ 9.58410826e-01 -2.52653823e-02]\n",
      " [ 9.95118899e-01 -3.55647763e-01]\n",
      " [ 1.55107204e+00 -1.42537220e-01]\n",
      " [ 1.58050576e+00 -1.54098203e-01]\n",
      " [ 1.39875414e+00 -1.06492006e-01]\n",
      " [ 1.04455039e+00 -7.48784543e-01]\n",
      " [ 1.16288475e+00 -3.26413876e-01]\n",
      " [ 1.33736201e+00 -5.51986747e-02]\n",
      " [ 1.22437680e+00 -2.99604775e-01]\n",
      " [ 1.06312253e+00 -2.43062212e-01]\n",
      " [ 9.29939714e-01 -2.62097381e-01]\n",
      " [ 1.76387346e-01 -8.05290560e-01]\n",
      " [ 4.42752977e-01 -7.67220221e-01]\n",
      " [ 7.88583306e-01 -6.65233048e-01]\n",
      " [ 9.05755229e-01 -1.50674266e-01]\n",
      " [ 7.98618740e-01  1.73396363e-01]\n",
      " [ 1.24158667e+00  1.42100806e-01]\n",
      " [ 1.32095145e+00  1.27915207e-01]\n",
      " [ 1.31211500e+00  2.26514990e-01]\n",
      " [ 1.18863133e+00 -2.17615377e-01]\n",
      " [ 1.18388167e+00  7.30346548e-02]\n",
      " [ 1.10062992e+00  5.13748700e-02]\n",
      " [ 7.32840064e-01 -2.01667852e-01]\n",
      " [ 1.26995787e+00  3.00830372e-01]\n",
      " [ 1.33367487e+00  6.51608079e-02]\n",
      " [ 1.08634441e+00 -1.06092346e-01]\n",
      " [ 1.06332236e+00 -8.68573465e-02]\n",
      " [ 1.12451466e+00 -2.94355544e-01]\n",
      " [ 1.25915966e+00 -1.33201192e-01]\n",
      " [ 1.17464556e+00 -1.40775294e-01]\n",
      " [ 9.33526935e-01 -4.60559297e-01]]\n"
     ]
    }
   ],
   "source": [
    "pca_features=model.transform(samples)\n",
    "print(pca_features)"
   ]
  },
  {
   "cell_type": "code",
   "execution_count": 7,
   "metadata": {},
   "outputs": [
    {
     "name": "stdout",
     "output_type": "stream",
     "text": [
      "[[-0.64116665 -0.76740167]\n",
      " [-0.76740167  0.64116665]]\n"
     ]
    }
   ],
   "source": [
    "print(model.components_)"
   ]
  },
  {
   "cell_type": "code",
   "execution_count": 8,
   "metadata": {},
   "outputs": [
    {
     "name": "stdout",
     "output_type": "stream",
     "text": [
      "[[1.         0.69994936]\n",
      " [0.69994936 1.        ]]\n"
     ]
    }
   ],
   "source": [
    "print(np.corrcoef(samples[:,0],samples[:,1]))"
   ]
  },
  {
   "cell_type": "code",
   "execution_count": 9,
   "metadata": {},
   "outputs": [
    {
     "name": "stdout",
     "output_type": "stream",
     "text": [
      "[[1.00000000e+00 1.10684356e-16]\n",
      " [1.10684356e-16 1.00000000e+00]]\n"
     ]
    }
   ],
   "source": [
    "print(np.corrcoef(pca_features[:,0],pca_features[:,1]))"
   ]
  },
  {
   "cell_type": "markdown",
   "metadata": {},
   "source": [
    "# Intrinsic diamensions"
   ]
  },
  {
   "cell_type": "code",
   "execution_count": 10,
   "metadata": {},
   "outputs": [],
   "source": [
    "samples=pd.read_csv('https://gist.githubusercontent.com/curran/a08a1080b88344b0c8a7/raw/d546eaee765268bf2f487608c537c05e22e4b221/iris.csv',usecols=[0,1,2,3])"
   ]
  },
  {
   "cell_type": "code",
   "execution_count": 11,
   "metadata": {},
   "outputs": [
    {
     "name": "stdout",
     "output_type": "stream",
     "text": [
      "     sepal_length  sepal_width  petal_length  petal_width\n",
      "0             5.1          3.5           1.4          0.2\n",
      "1             4.9          3.0           1.4          0.2\n",
      "2             4.7          3.2           1.3          0.2\n",
      "3             4.6          3.1           1.5          0.2\n",
      "4             5.0          3.6           1.4          0.2\n",
      "5             5.4          3.9           1.7          0.4\n",
      "6             4.6          3.4           1.4          0.3\n",
      "7             5.0          3.4           1.5          0.2\n",
      "8             4.4          2.9           1.4          0.2\n",
      "9             4.9          3.1           1.5          0.1\n",
      "10            5.4          3.7           1.5          0.2\n",
      "11            4.8          3.4           1.6          0.2\n",
      "12            4.8          3.0           1.4          0.1\n",
      "13            4.3          3.0           1.1          0.1\n",
      "14            5.8          4.0           1.2          0.2\n",
      "15            5.7          4.4           1.5          0.4\n",
      "16            5.4          3.9           1.3          0.4\n",
      "17            5.1          3.5           1.4          0.3\n",
      "18            5.7          3.8           1.7          0.3\n",
      "19            5.1          3.8           1.5          0.3\n",
      "20            5.4          3.4           1.7          0.2\n",
      "21            5.1          3.7           1.5          0.4\n",
      "22            4.6          3.6           1.0          0.2\n",
      "23            5.1          3.3           1.7          0.5\n",
      "24            4.8          3.4           1.9          0.2\n",
      "25            5.0          3.0           1.6          0.2\n",
      "26            5.0          3.4           1.6          0.4\n",
      "27            5.2          3.5           1.5          0.2\n",
      "28            5.2          3.4           1.4          0.2\n",
      "29            4.7          3.2           1.6          0.2\n",
      "..            ...          ...           ...          ...\n",
      "120           6.9          3.2           5.7          2.3\n",
      "121           5.6          2.8           4.9          2.0\n",
      "122           7.7          2.8           6.7          2.0\n",
      "123           6.3          2.7           4.9          1.8\n",
      "124           6.7          3.3           5.7          2.1\n",
      "125           7.2          3.2           6.0          1.8\n",
      "126           6.2          2.8           4.8          1.8\n",
      "127           6.1          3.0           4.9          1.8\n",
      "128           6.4          2.8           5.6          2.1\n",
      "129           7.2          3.0           5.8          1.6\n",
      "130           7.4          2.8           6.1          1.9\n",
      "131           7.9          3.8           6.4          2.0\n",
      "132           6.4          2.8           5.6          2.2\n",
      "133           6.3          2.8           5.1          1.5\n",
      "134           6.1          2.6           5.6          1.4\n",
      "135           7.7          3.0           6.1          2.3\n",
      "136           6.3          3.4           5.6          2.4\n",
      "137           6.4          3.1           5.5          1.8\n",
      "138           6.0          3.0           4.8          1.8\n",
      "139           6.9          3.1           5.4          2.1\n",
      "140           6.7          3.1           5.6          2.4\n",
      "141           6.9          3.1           5.1          2.3\n",
      "142           5.8          2.7           5.1          1.9\n",
      "143           6.8          3.2           5.9          2.3\n",
      "144           6.7          3.3           5.7          2.5\n",
      "145           6.7          3.0           5.2          2.3\n",
      "146           6.3          2.5           5.0          1.9\n",
      "147           6.5          3.0           5.2          2.0\n",
      "148           6.2          3.4           5.4          2.3\n",
      "149           5.9          3.0           5.1          1.8\n",
      "\n",
      "[150 rows x 4 columns]\n"
     ]
    }
   ],
   "source": [
    "print(samples)"
   ]
  },
  {
   "cell_type": "code",
   "execution_count": 12,
   "metadata": {},
   "outputs": [],
   "source": [
    "import matplotlib.pyplot as plt"
   ]
  },
  {
   "cell_type": "code",
   "execution_count": 13,
   "metadata": {},
   "outputs": [],
   "source": [
    "pca=PCA() #instantiate the model"
   ]
  },
  {
   "cell_type": "code",
   "execution_count": 14,
   "metadata": {},
   "outputs": [
    {
     "data": {
      "text/plain": [
       "PCA(copy=True, iterated_power='auto', n_components=None, random_state=None,\n",
       "  svd_solver='auto', tol=0.0, whiten=False)"
      ]
     },
     "execution_count": 14,
     "metadata": {},
     "output_type": "execute_result"
    }
   ],
   "source": [
    "pca.fit(samples)"
   ]
  },
  {
   "cell_type": "code",
   "execution_count": 15,
   "metadata": {},
   "outputs": [],
   "source": [
    "features=range(pca.n_components_)"
   ]
  },
  {
   "cell_type": "code",
   "execution_count": 16,
   "metadata": {},
   "outputs": [
    {
     "data": {
      "image/png": "[encoded data removed]",
      "text/plain": [
       "<Figure size 432x288 with 1 Axes>"
      ]
     },
     "metadata": {
      "needs_background": "light"
     },
     "output_type": "display_data"
    }
   ],
   "source": [
    "plt.bar(features,pca.explained_variance_)\n",
    "plt.xlabel('number of components')\n",
    "plt.ylabel('variance')\n",
    "plt.show()"
   ]
  },
  {
   "cell_type": "code",
   "execution_count": 17,
   "metadata": {},
   "outputs": [],
   "source": [
    "pca=PCA(n_components=2) #diamensional reduction"
   ]
  },
  {
   "cell_type": "code",
   "execution_count": 18,
   "metadata": {},
   "outputs": [
    {
     "data": {
      "text/plain": [
       "PCA(copy=True, iterated_power='auto', n_components=2, random_state=None,\n",
       "  svd_solver='auto', tol=0.0, whiten=False)"
      ]
     },
     "execution_count": 18,
     "metadata": {},
     "output_type": "execute_result"
    }
   ],
   "source": [
    "pca.fit(samples)"
   ]
  },
  {
   "cell_type": "code",
   "execution_count": 19,
   "metadata": {},
   "outputs": [],
   "source": [
    "transformed=pca.transform(samples)"
   ]
  },
  {
   "cell_type": "code",
   "execution_count": 20,
   "metadata": {},
   "outputs": [
    {
     "name": "stdout",
     "output_type": "stream",
     "text": [
      "[[-2.68420713  0.32660731]\n",
      " [-2.71539062 -0.16955685]\n",
      " [-2.88981954 -0.13734561]\n",
      " [-2.7464372  -0.31112432]\n",
      " [-2.72859298  0.33392456]\n",
      " [-2.27989736  0.74778271]\n",
      " [-2.82089068 -0.08210451]\n",
      " [-2.62648199  0.17040535]\n",
      " [-2.88795857 -0.57079803]\n",
      " [-2.67384469 -0.1066917 ]\n",
      " [-2.50652679  0.65193501]\n",
      " [-2.61314272  0.02152063]\n",
      " [-2.78743398 -0.22774019]\n",
      " [-3.22520045 -0.50327991]\n",
      " [-2.64354322  1.1861949 ]\n",
      " [-2.38386932  1.34475434]\n",
      " [-2.6225262   0.81808967]\n",
      " [-2.64832273  0.31913667]\n",
      " [-2.19907796  0.87924409]\n",
      " [-2.58734619  0.52047364]\n",
      " [-2.3105317   0.39786782]\n",
      " [-2.54323491  0.44003175]\n",
      " [-3.21585769  0.14161557]\n",
      " [-2.30312854  0.10552268]\n",
      " [-2.35617109 -0.03120959]\n",
      " [-2.50791723 -0.13905634]\n",
      " [-2.469056    0.13788731]\n",
      " [-2.56239095  0.37468456]\n",
      " [-2.63982127  0.31929007]\n",
      " [-2.63284791 -0.19007583]\n",
      " [-2.58846205 -0.19739308]\n",
      " [-2.41007734  0.41808001]\n",
      " [-2.64763667  0.81998263]\n",
      " [-2.59715948  1.10002193]\n",
      " [-2.67384469 -0.1066917 ]\n",
      " [-2.86699985  0.0771931 ]\n",
      " [-2.62522846  0.60680001]\n",
      " [-2.67384469 -0.1066917 ]\n",
      " [-2.98184266 -0.48025005]\n",
      " [-2.59032303  0.23605934]\n",
      " [-2.77013891  0.27105942]\n",
      " [-2.85221108 -0.93286537]\n",
      " [-2.99829644 -0.33430757]\n",
      " [-2.4055141   0.19591726]\n",
      " [-2.20883295  0.44269603]\n",
      " [-2.71566519 -0.24268148]\n",
      " [-2.53757337  0.51036755]\n",
      " [-2.8403213  -0.22057634]\n",
      " [-2.54268576  0.58628103]\n",
      " [-2.70391231  0.11501085]\n",
      " [ 1.28479459  0.68543919]\n",
      " [ 0.93241075  0.31919809]\n",
      " [ 1.46406132  0.50418983]\n",
      " [ 0.18096721 -0.82560394]\n",
      " [ 1.08713449  0.07539039]\n",
      " [ 0.64043675 -0.41732348]\n",
      " [ 1.09522371  0.28389121]\n",
      " [-0.75146714 -1.00110751]\n",
      " [ 1.04329778  0.22895691]\n",
      " [-0.01019007 -0.72057487]\n",
      " [-0.5110862  -1.26249195]\n",
      " [ 0.51109806 -0.10228411]\n",
      " [ 0.26233576 -0.5478933 ]\n",
      " [ 0.98404455 -0.12436042]\n",
      " [-0.174864   -0.25181557]\n",
      " [ 0.92757294  0.46823621]\n",
      " [ 0.65959279 -0.35197629]\n",
      " [ 0.23454059 -0.33192183]\n",
      " [ 0.94236171 -0.54182226]\n",
      " [ 0.0432464  -0.58148945]\n",
      " [ 1.11624072 -0.08421401]\n",
      " [ 0.35678657 -0.06682383]\n",
      " [ 1.29646885 -0.32756152]\n",
      " [ 0.92050265 -0.18239036]\n",
      " [ 0.71400821  0.15037915]\n",
      " [ 0.89964086  0.32961098]\n",
      " [ 1.33104142  0.24466952]\n",
      " [ 1.55739627  0.26739258]\n",
      " [ 0.81245555 -0.16233157]\n",
      " [-0.30733476 -0.36508661]\n",
      " [-0.07034289 -0.70253793]\n",
      " [-0.19188449 -0.67749054]\n",
      " [ 0.13499495 -0.31170964]\n",
      " [ 1.37873698 -0.42120514]\n",
      " [ 0.58727485 -0.48328427]\n",
      " [ 0.8072055   0.19505396]\n",
      " [ 1.22042897  0.40803534]\n",
      " [ 0.81286779 -0.370679  ]\n",
      " [ 0.24519516 -0.26672804]\n",
      " [ 0.16451343 -0.67966147]\n",
      " [ 0.46303099 -0.66952655]\n",
      " [ 0.89016045 -0.03381244]\n",
      " [ 0.22887905 -0.40225762]\n",
      " [-0.70708128 -1.00842476]\n",
      " [ 0.35553304 -0.50321849]\n",
      " [ 0.33112695 -0.21118014]\n",
      " [ 0.37523823 -0.29162202]\n",
      " [ 0.64169028  0.01907118]\n",
      " [-0.90846333 -0.75156873]\n",
      " [ 0.29780791 -0.34701652]\n",
      " [ 2.53172698 -0.01184224]\n",
      " [ 1.41407223 -0.57492506]\n",
      " [ 2.61648461  0.34193529]\n",
      " [ 1.97081495 -0.18112569]\n",
      " [ 2.34975798 -0.04188255]\n",
      " [ 3.39687992  0.54716805]\n",
      " [ 0.51938325 -1.19135169]\n",
      " [ 2.9320051   0.35237701]\n",
      " [ 2.31967279 -0.24554817]\n",
      " [ 2.91813423  0.78038063]\n",
      " [ 1.66193495  0.2420384 ]\n",
      " [ 1.80234045 -0.21615461]\n",
      " [ 2.16537886  0.21528028]\n",
      " [ 1.34459422 -0.77641543]\n",
      " [ 1.5852673  -0.53930705]\n",
      " [ 1.90474358  0.11881899]\n",
      " [ 1.94924878  0.04073026]\n",
      " [ 3.48876538  1.17154454]\n",
      " [ 3.79468686  0.25326557]\n",
      " [ 1.29832982 -0.76101394]\n",
      " [ 2.42816726  0.37678197]\n",
      " [ 1.19809737 -0.60557896]\n",
      " [ 3.49926548  0.45677347]\n",
      " [ 1.38766825 -0.20403099]\n",
      " [ 2.27585365  0.33338653]\n",
      " [ 2.61419383  0.55836695]\n",
      " [ 1.25762518 -0.179137  ]\n",
      " [ 1.29066965 -0.11642525]\n",
      " [ 2.12285398 -0.21085488]\n",
      " [ 2.3875644   0.46251925]\n",
      " [ 2.84096093  0.37274259]\n",
      " [ 3.2323429   1.37052404]\n",
      " [ 2.15873837 -0.21832553]\n",
      " [ 1.4431026  -0.14380129]\n",
      " [ 1.77964011 -0.50146479]\n",
      " [ 3.07652162  0.68576444]\n",
      " [ 2.14498686  0.13890661]\n",
      " [ 1.90486293  0.04804751]\n",
      " [ 1.16885347 -0.1645025 ]\n",
      " [ 2.10765373  0.37148225]\n",
      " [ 2.31430339  0.18260885]\n",
      " [ 1.92245088  0.40927118]\n",
      " [ 1.41407223 -0.57492506]\n",
      " [ 2.56332271  0.2759745 ]\n",
      " [ 2.41939122  0.30350394]\n",
      " [ 1.94401705  0.18741522]\n",
      " [ 1.52566363 -0.37502085]\n",
      " [ 1.76404594  0.07851919]\n",
      " [ 1.90162908  0.11587675]\n",
      " [ 1.38966613 -0.28288671]]\n"
     ]
    }
   ],
   "source": [
    "print(transformed)"
   ]
  },
  {
   "cell_type": "code",
   "execution_count": 21,
   "metadata": {},
   "outputs": [],
   "source": [
    "xs=transformed[:,0]\n",
    "ys=transformed[:,1]"
   ]
  },
  {
   "cell_type": "code",
   "execution_count": 22,
   "metadata": {
    "scrolled": true
   },
   "outputs": [
    {
     "name": "stdout",
     "output_type": "stream",
     "text": [
      "versicolor    50\n",
      "virginica     50\n",
      "setosa        50\n",
      "Name: species, dtype: int64\n"
     ]
    }
   ],
   "source": [
    "#coloring with species\n",
    "df=pd.read_csv('https://gist.githubusercontent.com/curran/a08a1080b88344b0c8a7/raw/d546eaee765268bf2f487608c537c05e22e4b221/iris.csv',usecols=[4])\n",
    "print(df['species'].value_counts())"
   ]
  },
  {
   "cell_type": "code",
   "execution_count": 23,
   "metadata": {},
   "outputs": [
    {
     "data": {
      "image/png": "[encoded data removed]",
      "text/plain": [
       "<Figure size 432x288 with 1 Axes>"
      ]
     },
     "metadata": {
      "needs_background": "light"
     },
     "output_type": "display_data"
    }
   ],
   "source": [
    "plt.plot(xs,ys,marker='.',linestyle='none')\n",
    "plt.show()"
   ]
  },
  {
   "cell_type": "code",
   "execution_count": null,
   "metadata": {},
   "outputs": [],
   "source": []
  }
 ],
 "metadata": {
  "kernelspec": {
   "display_name": "Python 3",
   "language": "python",
   "name": "python3"
  },
  "language_info": {
   "codemirror_mode": {
    "name": "ipython",
    "version": 3
   },
   "file_extension": ".py",
   "mimetype": "text/x-python",
   "name": "python",
   "nbconvert_exporter": "python",
   "pygments_lexer": "ipython3",
   "version": "3.7.2"
  }
 },
 "nbformat": 4,
 "nbformat_minor": 2
}
